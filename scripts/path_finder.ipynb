{
 "cells": [
  {
   "cell_type": "code",
   "execution_count": 280,
   "metadata": {
    "collapsed": true,
    "deletable": true,
    "editable": true
   },
   "outputs": [],
   "source": [
    "import path_finder as pf\n",
    "from Bio import SeqIO\n",
    "import difflib\n",
    "import json"
   ]
  },
  {
   "cell_type": "code",
   "execution_count": 318,
   "metadata": {
    "collapsed": true,
    "deletable": true,
    "editable": true
   },
   "outputs": [],
   "source": [
    "def find_seq_path(seq, g):\n",
    "    \"\"\"Find the most likely path for a sequence through a given graph.\"\"\"\n",
    "    seq = seq.replace('-', '')\n",
    "    path = []\n",
    "    #  returns list of node ids and create list of those nodes\n",
    "    head_node_ids = g.find_all_start_nodes()\n",
    "    head_nodes = [g.nodes[node_id] for node_id in head_node_ids]\n",
    "    # determine which node is the correct match for our sequence\n",
    "    matches = find_match(seq, head_nodes)\n",
    "    for match in matches:\n",
    "        try:\n",
    "            # remove the sequence of the match from the start of our sequence\n",
    "            new_seq = seq[len(match.sequence):] if not match.sequence == '*' else seq\n",
    "            # start recursive search for path through graph\n",
    "            final_path = helper(new_seq, g, match.name, path + [match.name])\n",
    "            return final_path\n",
    "        except (AttributeError, TypeError) as err:\n",
    "            if str(err) in (\"'NoneType' object has no attribute 'name'\", \"'NoneType' object is not iterable\"):\n",
    "                continue\n",
    "            else:\n",
    "                raise(err)\n",
    "            \n",
    "\n",
    "def find_match(seq, nodes):\n",
    "    \"\"\"Find which node matches start of sequence and return which node matches\"\"\"\n",
    "    matches = []\n",
    "    \n",
    "    for node in nodes:\n",
    "        l = len(node.sequence)\n",
    "        if node.sequence in ('*', seq[:l]):\n",
    "            matches.append(node)\n",
    "    # if we get to here then there was no exact match.\n",
    "    # we need to return the node/s with * seq.\n",
    "#     if not matches:\n",
    "#         for node in nodes:\n",
    "#             if node.sequence == '*':\n",
    "#                 matches.append(node)\n",
    "#     if len(matches) > 1: print(matches)\n",
    "    return matches\n",
    "    # if we get to here, theres a problem\n",
    "#     print(\"Something went wrong. Shouldn't have gotten to here.\")\n",
    "#     print(seq)\n",
    "#     print(nodes)\n",
    "    \n",
    "def helper(seq, g, start_from, paths_acc):\n",
    "    \"\"\"Helper function for path finder that recursively finds the correct path\n",
    "    through the graph and will end once we hit the end of the sequence/graph.\"\"\"\n",
    "    # we have reached the end of the sequence or graph\n",
    "#     print(paths_acc)\n",
    "#     print(seq)\n",
    "    if not start_from or not seq:\n",
    "        return paths_acc\n",
    "    nodes_to_try = [g.nodes[key] for key in g.nodes[start_from].out_edges]\n",
    "    matches = find_match(seq, nodes_to_try)\n",
    "    for match in matches:\n",
    "        try:\n",
    "            new_seq = seq[len(match.sequence):] if not match.sequence == '*' else seq\n",
    "            return helper(new_seq, g, match.name, paths_acc + [match.name])\n",
    "        except (AttributeError, TypeError) as err:\n",
    "            if str(err) in (\"'NoneType' object has no attribute 'name'\", \"'NoneType' object is not iterable\"):\n",
    "                continue\n",
    "            else:\n",
    "                raise(err)\n",
    "    # raise this error as there are no matches, meaning we hit a dead end in the graph\n",
    "    # and need to back-track. This error will cause the recursive helper function to back-track\n",
    "    raise(TypeError(\"'NoneType' object is not iterable\"))\n",
    "\n",
    "def fasta_parser(filename):\n",
    "    fasta = {}\n",
    "    with open(filename, 'r') as f:\n",
    "        contents = f.read()[1:].split('\\n>')\n",
    "        for section in contents:\n",
    "            sample = section.split('\\n')\n",
    "            sample_id = sample[0]\n",
    "            seq = ''.join(sample[1:]).strip()\n",
    "            fasta[sample_id] = seq\n",
    "    return fasta\n",
    "\n",
    "def json_formatter(graph, fasta):\n",
    "    paths = []\n",
    "    for idx, (key, seq) in enumerate(fasta.items()):\n",
    "        path_obj = {'id': idx, 'name': key, 'sequence': find_seq_path(seq, graph)}\n",
    "        paths.append(path_obj)\n",
    "    nodes = []\n",
    "    for key, node in graph.nodes.items():\n",
    "        node_obj = {'name': key, 'seq': node.sequence}\n",
    "        nodes.append(node_obj)\n",
    "    obj_to_write = {'nodes': nodes, 'paths': paths}\n",
    "    return obj_to_write"
   ]
  },
  {
   "cell_type": "markdown",
   "metadata": {
    "deletable": true,
    "editable": true
   },
   "source": [
    "## Test set\n",
    "We will first test this on a little toy example.\n",
    "The sequences for this test sample are:\n",
    "```\n",
    ">sample1\n",
    "AGGAGCTTA\n",
    ">sample2\n",
    "ACGAGCTTA\n",
    ">sample3\n",
    "TCGAGCATA\n",
    "```\n",
    "And the GFA:\n",
    "```\n",
    "H       VN:Z:1.0        bn:Z:--linear --singlearr\n",
    "S       0       *       RC:i:0\n",
    "S       1       AG      RC:i:0\n",
    "S       2       AC      RC:i:0\n",
    "S       3       TC      RC:i:0\n",
    "S       4       GAGC    RC:i:0\n",
    "L       1       +       4       +       0M\n",
    "L       2       +       4       +       0M\n",
    "L       3       +       4       +       0M\n",
    "L       4       +       5       +       0M\n",
    "S       5       TTA     RC:i:0\n",
    "L       4       +       6       +       0M\n",
    "S       6       ATA     RC:i:0\n",
    "S       7       *       RC:i:0\n",
    "L       5       +       7       +       0M\n",
    "L       6       +       7       +       0M\n",
    "```"
   ]
  },
  {
   "cell_type": "code",
   "execution_count": 319,
   "metadata": {
    "collapsed": true,
    "deletable": true,
    "editable": true
   },
   "outputs": [],
   "source": [
    "test_dir = '/Users/mbhall88/Dropbox/PhD/hiv_prg/data/testing/'\n",
    "test_gfa_filename = test_dir + 'test.max_nest10.min_match3.gfa'\n",
    "test_fasta_filename = test_dir + 'test.fasta'"
   ]
  },
  {
   "cell_type": "markdown",
   "metadata": {},
   "source": [
    "Here we load in the GFA into the custom `Graph` data structure, along with the fasta file of the samples, and create the `json` object we need for the tubemaps. This structure requires nodes with their sequences and also path information."
   ]
  },
  {
   "cell_type": "code",
   "execution_count": 323,
   "metadata": {
    "collapsed": false,
    "deletable": true,
    "editable": true
   },
   "outputs": [
    {
     "data": {
      "text/plain": [
       "{'nodes': [{'name': '0', 'seq': '*'},\n",
       "  {'name': '1', 'seq': 'AG'},\n",
       "  {'name': '2', 'seq': 'AC'},\n",
       "  {'name': '3', 'seq': 'TC'},\n",
       "  {'name': '4', 'seq': 'GAGC'},\n",
       "  {'name': '5', 'seq': 'TTA'},\n",
       "  {'name': '6', 'seq': 'ATA'},\n",
       "  {'name': '7', 'seq': '*'}],\n",
       " 'paths': [{'id': 0, 'name': 'sample1', 'sequence': ['1', '4', '5']},\n",
       "  {'id': 1, 'name': 'sample2', 'sequence': ['2', '4', '5']},\n",
       "  {'id': 2, 'name': 'sample3', 'sequence': ['3', '4', '6']}]}"
      ]
     },
     "execution_count": 323,
     "metadata": {},
     "output_type": "execute_result"
    }
   ],
   "source": [
    "test_graph = pf.Graph(from_gfa=test_gfa_filename)\n",
    "test_fasta = fasta_parser(test_fasta_filename)\n",
    "test_obj = json_formatter(test_graph, test_fasta)\n",
    "test_obj"
   ]
  },
  {
   "cell_type": "markdown",
   "metadata": {
    "deletable": true,
    "editable": true
   },
   "source": [
    "The paths for each sample above are correct!!\n",
    "Let's write them to `json` and move on."
   ]
  },
  {
   "cell_type": "code",
   "execution_count": 324,
   "metadata": {
    "collapsed": true
   },
   "outputs": [],
   "source": [
    "json_fname = test_fasta_filename[:-5] + 'json'\n",
    "with open(json_fname, 'w') as fp:\n",
    "    json.dump(test_obj, fp)"
   ]
  },
  {
   "cell_type": "markdown",
   "metadata": {
    "deletable": true,
    "editable": true
   },
   "source": [
    "## Real dataset\n",
    "We will now run the function on the HIV dataset and write it to file for reading into the sequence tubemap visualisation."
   ]
  },
  {
   "cell_type": "code",
   "execution_count": 260,
   "metadata": {
    "collapsed": true,
    "deletable": true,
    "editable": true
   },
   "outputs": [],
   "source": [
    "data_dir = '/Users/mbhall88/Dropbox/PhD/hiv_prg/data/'\n",
    "gfa_filename = data_dir + 'five.max_nest10.min_match5.gfa'\n",
    "hiv_fasta_filename = data_dir + 'HIV1_ALL_2016_pol_DNA_5_samples.fasta'"
   ]
  },
  {
   "cell_type": "code",
   "execution_count": 325,
   "metadata": {
    "collapsed": false,
    "deletable": true,
    "editable": true
   },
   "outputs": [
    {
     "name": "stdout",
     "output_type": "stream",
     "text": [
      "499\n",
      "513\n",
      "527\n",
      "533\n",
      "537\n"
     ]
    }
   ],
   "source": [
    "hiv_graph = pf.Graph(from_gfa=gfa_filename)\n",
    "hiv_fasta = fasta_parser(hiv_fasta_filename)\n",
    "hiv_obj = json_formatter(hiv_graph, hiv_fasta)\n",
    "# quick check to ensure paths not empty\n",
    "for d in hiv_obj['paths']:\n",
    "    print(len(d['sequence']))"
   ]
  },
  {
   "cell_type": "markdown",
   "metadata": {
    "collapsed": false,
    "deletable": true,
    "editable": true
   },
   "source": [
    "Now that we have our paths, let's write them to `json` along with the details of all the nodes."
   ]
  },
  {
   "cell_type": "code",
   "execution_count": 326,
   "metadata": {
    "collapsed": false,
    "deletable": true,
    "editable": true
   },
   "outputs": [],
   "source": [
    "json_fname = hiv_fasta_filename[:-5] + 'json'\n",
    "with open(json_fname, 'w') as fp:\n",
    "    json.dump(hiv_obj, fp)"
   ]
  },
  {
   "cell_type": "code",
   "execution_count": 296,
   "metadata": {
    "collapsed": false
   },
   "outputs": [],
   "source": [
    "\n",
    "\n"
   ]
  },
  {
   "cell_type": "code",
   "execution_count": null,
   "metadata": {
    "collapsed": true
   },
   "outputs": [],
   "source": []
  }
 ],
 "metadata": {
  "kernelspec": {
   "display_name": "Python 3",
   "language": "python",
   "name": "python3"
  },
  "language_info": {
   "codemirror_mode": {
    "name": "ipython",
    "version": 3
   },
   "file_extension": ".py",
   "mimetype": "text/x-python",
   "name": "python",
   "nbconvert_exporter": "python",
   "pygments_lexer": "ipython3",
   "version": "3.6.3"
  }
 },
 "nbformat": 4,
 "nbformat_minor": 2
}
